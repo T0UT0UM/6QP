{
 "cells": [
  {
   "cell_type": "markdown",
   "metadata": {},
   "source": [
    "# 6 qui Prend - The Card Game"
   ]
  },
  {
   "cell_type": "markdown",
   "metadata": {},
   "source": [
    "## Game Rules"
   ]
  },
  {
   "cell_type": "code",
   "execution_count": 12,
   "metadata": {},
   "outputs": [],
   "source": [
    "# Imports\n",
    "import os\n",
    "import numpy as np\n",
    "import tkinter as tk"
   ]
  },
  {
   "cell_type": "code",
   "execution_count": 5,
   "metadata": {},
   "outputs": [],
   "source": [
    "# Constants\n",
    "NB_TURNS = 10\n",
    "NB_CARDS = 104\n",
    "NB_ROWS = 4\n",
    "CARDS_PER_ROWS = 5"
   ]
  },
  {
   "cell_type": "code",
   "execution_count": 10,
   "metadata": {},
   "outputs": [],
   "source": [
    "class Card:\n",
    "    def __init__(self, value):\n",
    "        assert 1 <= value <= NB_CARDS\n",
    "        # Value of the card\n",
    "        self.value = value\n",
    "        # Number of bullheads on the card\n",
    "        if (value % 55 == 0):\n",
    "            self.bullheads = 7\n",
    "        elif(value % 11 == 0):\n",
    "            self.bullheads = 5\n",
    "        elif (value % 10 == 0):\n",
    "            self.bullheads = 3\n",
    "        elif (value % 10 == 5):\n",
    "                self.bullheads = 2\n",
    "        else:\n",
    "            self.bullheads = 1\n",
    "        \n",
    "\n",
    "    def __str__(self):\n",
    "        return f\" |{self.value:3d}(*{self.bullheads}*)| \"\n",
    "\n",
    "class Deck:\n",
    "    def __init__(self):\n",
    "        self.cards = [Card(i) for i in range(1, NB_CARDS + 1)]\n",
    "        np.random.shuffle(self.cards)\n",
    "\n",
    "    def draw(self):\n",
    "        assert len(self.cards) > 0\n",
    "        return self.cards.pop()"
   ]
  },
  {
   "cell_type": "code",
   "execution_count": null,
   "metadata": {},
   "outputs": [],
   "source": [
    "class Player:\n",
    "    def __init__(self, name):\n",
    "        self.name = name\n",
    "        self.hand = []\n",
    "        self.bullheads = 0\n",
    "\n",
    "    def __str__(self):\n",
    "        return f\"{self.name} has {len(self.hand)} cards\""
   ]
  },
  {
   "cell_type": "code",
   "execution_count": null,
   "metadata": {},
   "outputs": [],
   "source": [
    "class Gameboard:\n",
    "    def __init__(self, deck):\n",
    "        self.deck = deck\n",
    "        self.board = [[deck.draw()] for _ in range(NB_ROWS)]\n",
    "    \n",
    "    def clear_row(self, row):\n",
    "        bullheads = sum([card.bullheads for card in self.board[row][:-1]])\n",
    "        self.board[row] = [self.board[row][-1]]\n",
    "        return bullheads\n",
    "    \n",
    "    def can_play_card(self, card):\n",
    "        return any([card.value > row[-1].value for row in self.board])\n",
    "    \n",
    "    def play_card(self, card):\n",
    "        assert self.can_play_card(card)\n",
    "        row = max((i for i in range(NB_ROWS) if self.board[i][-1].value < card.value), key=lambda i: self.board[i][-1].value)\n",
    "        self.board[row].append(card)\n",
    "        bullheads = 0\n",
    "        if len(self.board[row]) > CARDS_PER_ROWS:\n",
    "            bullheads = self.clear_row(row)\n",
    "        return bullheads\n",
    "\n",
    "    def replace_row(self, card, row):\n",
    "        assert not self.can_play_card(card)\n",
    "        self.board[row].append(card)\n",
    "        bullheads = self.clear_row(row)\n",
    "        return bullheads\n",
    "\n",
    "    def __str__(self):\n",
    "        return \"\\n\".join([\n",
    "            \"=-----------==-----------==-----------==-----------==-----------==-----------=\\n\" +\n",
    "            \" \".join([str(card) for card in row]) for row in self.board]) \\\n",
    "            + \"\\n=-----------==-----------==-----------==-----------==-----------==-----------=\""
   ]
  },
  {
   "cell_type": "code",
   "execution_count": 17,
   "metadata": {},
   "outputs": [],
   "source": [
    "class Game:\n",
    "    def __init__(self, players):\n",
    "        self.players = players\n",
    "        self.deck = Deck()\n",
    "        self.turn = 0\n",
    "\n",
    "    def play(self):\n",
    "        while self.turn < NB_TURNS:\n",
    "            for player in self.players:\n",
    "                player.hand.append(self.deck.draw())\n",
    "                print(player)\n",
    "            self.turn += 1\n",
    "            "
   ]
  },
  {
   "cell_type": "code",
   "execution_count": 79,
   "metadata": {},
   "outputs": [
    {
     "name": "stdout",
     "output_type": "stream",
     "text": [
      "=-----------==-----------==-----------==-----------==-----------==-----------=\n",
      " | 70(*3*)| \n",
      "=-----------==-----------==-----------==-----------==-----------==-----------=\n",
      " | 16(*1*)| \n",
      "=-----------==-----------==-----------==-----------==-----------==-----------=\n",
      " | 33(*5*)| \n",
      "=-----------==-----------==-----------==-----------==-----------==-----------=\n",
      " | 62(*1*)| \n",
      "=-----------==-----------==-----------==-----------==-----------==-----------=\n",
      "=-----------==-----------==-----------==-----------==-----------==-----------=\n",
      " | 70(*3*)| \n",
      "=-----------==-----------==-----------==-----------==-----------==-----------=\n",
      " | 16(*1*)|   | 24(*1*)| \n",
      "=-----------==-----------==-----------==-----------==-----------==-----------=\n",
      " | 33(*5*)| \n",
      "=-----------==-----------==-----------==-----------==-----------==-----------=\n",
      " | 62(*1*)| \n",
      "=-----------==-----------==-----------==-----------==-----------==-----------=\n"
     ]
    }
   ],
   "source": [
    "# Create a gameboard and print it\n",
    "deck = Deck()\n",
    "gameboard = Gameboard(deck)\n",
    "print(gameboard)\n",
    "\n",
    "# Add a card to the gameboard and print it\n",
    "card = deck.draw()\n",
    "if gameboard.can_play_card(card):\n",
    "    gameboard.play_card(card)\n",
    "print(gameboard)"
   ]
  },
  {
   "cell_type": "code",
   "execution_count": null,
   "metadata": {},
   "outputs": [],
   "source": []
  }
 ],
 "metadata": {
  "kernelspec": {
   "display_name": "optim",
   "language": "python",
   "name": "python3"
  },
  "language_info": {
   "codemirror_mode": {
    "name": "ipython",
    "version": 3
   },
   "file_extension": ".py",
   "mimetype": "text/x-python",
   "name": "python",
   "nbconvert_exporter": "python",
   "pygments_lexer": "ipython3",
   "version": "3.10.13"
  }
 },
 "nbformat": 4,
 "nbformat_minor": 2
}
